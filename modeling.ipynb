{
 "cells": [
  {
   "cell_type": "markdown",
   "metadata": {},
   "source": [
    "Also, think about these five terminologies as we will use a lot in DS 2.1:  \n",
    "1- What is X_train?  \n",
    "2- What is y_train?  \n",
    "3- What is X_test?  \n",
    "4- What is y_test?  \n",
    "5- What is .y_pred (y_prediction)?  \n"
   ]
  },
  {
   "cell_type": "code",
   "execution_count": null,
   "metadata": {},
   "outputs": [],
   "source": []
  },
  {
   "cell_type": "code",
   "execution_count": null,
   "metadata": {},
   "outputs": [],
   "source": []
  },
  {
   "cell_type": "code",
   "execution_count": 26,
   "metadata": {},
   "outputs": [
    {
     "name": "stdout",
     "output_type": "stream",
     "text": [
      "[ 0.04700012  0.17993257 -0.00140273]\n",
      "3.029766796293691\n",
      "Predicting the sales of the bottom 50 companies (last ones)\n",
      "[18.67186188 10.15990172 16.48950045 18.17132726 15.63964047  5.30168953\n",
      " 15.19930681 10.27021058 10.15577653 12.48190724 14.35100299 13.43010832\n",
      " 15.10545883 17.32542469 11.17561481 14.54411372 10.60623457 13.6578278\n",
      " 17.31920373 18.29020846  7.44118029 14.4553876   7.54376735 12.20415315\n",
      " 14.07598825 24.7841683  20.11008458 12.38328494 16.41529992 12.58762415\n",
      " 10.84616747 14.23249384  6.65512798 24.18338541 18.74887883 20.75225663\n",
      "  9.92682913 17.15002463 18.96767352  6.05302918 12.27336433  8.51313117\n",
      "  4.53156602 18.42150484 16.46286778  5.47156415  8.32748549 13.01318332\n",
      " 23.82330766 15.4737108 ]\n",
      "0.8963519785440216\n"
     ]
    }
   ],
   "source": [
    "import pandas as pd\n",
    "import numpy as np\n",
    "from sklearn.linear_model import LinearRegression\n",
    "from sklearn.metrics import r2_score\n",
    "from sklearn import svm\n",
    "from sklearn.datasets import make_blobs\n",
    "\n",
    "df = pd.read_csv(\"data/Advertising.csv\")\n",
    "feature_cols = [\"TV\", \"radio\", \"newspaper\"]\n",
    "\n",
    "# Use the top 150 companies to train the Linear Regression Model\n",
    "X_train = df[feature_cols][:150]\n",
    "Y_train = df.sales[:150]\n",
    "\n",
    "#Instansiate the model (Linear Regression) and train it\n",
    "lr_reg = LinearRegression()\n",
    "lr_reg.fit(X_train, Y_train)\n",
    "\n",
    "print(lr_reg.coef_)\n",
    "print(lr_reg.intercept_)\n",
    "\n",
    "#Predict the botton 50 companies' sales\n",
    "X_test = df[feature_cols][-50:]\n",
    "Y_test = df.sales[-50:]\n",
    "\n",
    "print(\"Predicting the sales of the bottom 50 companies (last ones)\")\n",
    "print(lr_reg.predict(X_test))\n",
    "\n",
    "print(lr_reg.score(X_test, Y_test)) "
   ]
  },
  {
   "cell_type": "code",
   "execution_count": 9,
   "metadata": {},
   "outputs": [
    {
     "data": {
      "text/plain": [
       "array([16.48950045])"
      ]
     },
     "execution_count": 9,
     "metadata": {},
     "output_type": "execute_result"
    }
   ],
   "source": [
    "lr_reg.predict([[197.6, 23.3, 14.2]])"
   ]
  },
  {
   "cell_type": "code",
   "execution_count": null,
   "metadata": {},
   "outputs": [],
   "source": []
  },
  {
   "cell_type": "markdown",
   "metadata": {},
   "source": [
    "# Support Vector Machines"
   ]
  },
  {
   "cell_type": "code",
   "execution_count": 10,
   "metadata": {},
   "outputs": [
    {
     "data": {
      "text/html": [
       "<div>\n",
       "<style scoped>\n",
       "    .dataframe tbody tr th:only-of-type {\n",
       "        vertical-align: middle;\n",
       "    }\n",
       "\n",
       "    .dataframe tbody tr th {\n",
       "        vertical-align: top;\n",
       "    }\n",
       "\n",
       "    .dataframe thead th {\n",
       "        text-align: right;\n",
       "    }\n",
       "</style>\n",
       "<table border=\"1\" class=\"dataframe\">\n",
       "  <thead>\n",
       "    <tr style=\"text-align: right;\">\n",
       "      <th></th>\n",
       "      <th>X1</th>\n",
       "      <th>X2</th>\n",
       "      <th>y</th>\n",
       "    </tr>\n",
       "  </thead>\n",
       "  <tbody>\n",
       "    <tr>\n",
       "      <th>0</th>\n",
       "      <td>2.947814</td>\n",
       "      <td>6.626878</td>\n",
       "      <td>1</td>\n",
       "    </tr>\n",
       "    <tr>\n",
       "      <th>1</th>\n",
       "      <td>2.530388</td>\n",
       "      <td>7.785050</td>\n",
       "      <td>1</td>\n",
       "    </tr>\n",
       "    <tr>\n",
       "      <th>2</th>\n",
       "      <td>3.566991</td>\n",
       "      <td>5.651046</td>\n",
       "      <td>1</td>\n",
       "    </tr>\n",
       "    <tr>\n",
       "      <th>3</th>\n",
       "      <td>3.156983</td>\n",
       "      <td>5.467077</td>\n",
       "      <td>1</td>\n",
       "    </tr>\n",
       "    <tr>\n",
       "      <th>4</th>\n",
       "      <td>2.582346</td>\n",
       "      <td>4.457777</td>\n",
       "      <td>-1</td>\n",
       "    </tr>\n",
       "    <tr>\n",
       "      <th>5</th>\n",
       "      <td>2.155826</td>\n",
       "      <td>6.222343</td>\n",
       "      <td>-1</td>\n",
       "    </tr>\n",
       "    <tr>\n",
       "      <th>6</th>\n",
       "      <td>3.273418</td>\n",
       "      <td>3.520687</td>\n",
       "      <td>-1</td>\n",
       "    </tr>\n",
       "  </tbody>\n",
       "</table>\n",
       "</div>"
      ],
      "text/plain": [
       "         X1        X2  y\n",
       "0  2.947814  6.626878  1\n",
       "1  2.530388  7.785050  1\n",
       "2  3.566991  5.651046  1\n",
       "3  3.156983  5.467077  1\n",
       "4  2.582346  4.457777 -1\n",
       "5  2.155826  6.222343 -1\n",
       "6  3.273418  3.520687 -1"
      ]
     },
     "execution_count": 10,
     "metadata": {},
     "output_type": "execute_result"
    }
   ],
   "source": [
    "brain = pd.read_csv('data/SVM_Dataset1.txt', index_col=0)\n",
    "brain"
   ]
  },
  {
   "cell_type": "code",
   "execution_count": 11,
   "metadata": {},
   "outputs": [
    {
     "data": {
      "text/plain": [
       "<matplotlib.collections.PathCollection at 0x1179f6250>"
      ]
     },
     "execution_count": 11,
     "metadata": {},
     "output_type": "execute_result"
    },
    {
     "data": {
      "image/png": "[encoded data removed]",
      "text/plain": [
       "<Figure size 432x288 with 1 Axes>"
      ]
     },
     "metadata": {
      "needs_background": "light"
     },
     "output_type": "display_data"
    }
   ],
   "source": [
    "import matplotlib.pyplot as plt\n",
    "plt.scatter(brain['X1'], brain['X2'], c= 'r')"
   ]
  },
  {
   "cell_type": "code",
   "execution_count": 20,
   "metadata": {},
   "outputs": [
    {
     "data": {
      "text/plain": [
       "<matplotlib.collections.PathCollection at 0x11a18a650>"
      ]
     },
     "execution_count": 20,
     "metadata": {},
     "output_type": "execute_result"
    },
    {
     "data": {
      "image/png": "[encoded data removed]",
      "text/plain": [
       "<Figure size 432x288 with 1 Axes>"
      ]
     },
     "metadata": {
      "needs_background": "light"
     },
     "output_type": "display_data"
    }
   ],
   "source": [
    "brain2 = pd.read_csv('data/SVM_Dataset2.txt')\n",
    "brain2.columns\n",
    "plt.scatter(brain2['x1'], brain2['x2'], c= 'r')"
   ]
  },
  {
   "cell_type": "code",
   "execution_count": 36,
   "metadata": {},
   "outputs": [
    {
     "name": "stderr",
     "output_type": "stream",
     "text": [
      "/usr/local/lib/python3.7/site-packages/sklearn/svm/base.py:193: FutureWarning: The default value of gamma will change from 'auto' to 'scale' in version 0.22 to account better for unscaled features. Set gamma explicitly to 'auto' or 'scale' to avoid this warning.\n",
      "  \"avoid this warning.\", FutureWarning)\n"
     ]
    },
    {
     "data": {
      "image/png": "[encoded data removed]",
      "text/plain": [
       "<Figure size 432x288 with 1 Axes>"
      ]
     },
     "metadata": {
      "needs_background": "light"
     },
     "output_type": "display_data"
    }
   ],
   "source": [
    "X1=brain2['x1']\n",
    "X2=brain2['x2']\n",
    "\n",
    "X_train=np.array(list(zip(X1,X2)))\n",
    "y_train=brain2['y'].values\n",
    "\n",
    "svm_classifier = svm.SVC(kernel='poly',C=10)\n",
    "svm_classifier.fit(X_train, y_train)\n",
    "\n",
    "label = []\n",
    "for k in y_train:\n",
    "    if k == 1:\n",
    "        label.append('H')\n",
    "    else:\n",
    "        label.append('NH')\n",
    "        \n",
    "        \n",
    "colors = []\n",
    "for k in y_train:\n",
    "    if k == 1:\n",
    "        colors.append('g')\n",
    "    else:\n",
    "        colors.append('r')\n",
    "\n",
    "def plot_decision_boundary(clf, X, y):\n",
    "    x1_min, x1_max = X[:, 0].min() - 1, X[:, 0].max() + 1\n",
    "    x2_min, x2_max = X[:, 1].min() - 1, X[:, 1].max() + 1\n",
    "    xx1, xx2 = np.meshgrid(np.arange(x1_min, x1_max),np.arange(x2_min, x2_max))\n",
    "    Z = clf.decision_function(np.array([xx1.ravel(), xx2.ravel()]).T).reshape(xx1.shape)\n",
    "    plt.contourf(xx1, xx2, Z, colors='k', levels=[-1, 0, 1], alpha=0.4, linestyles=['--', '-', '--'])\n",
    "    plt.xlim(xx1.min(), xx1.max())\n",
    "    plt.ylim(xx2.min(), xx2.max())  \n",
    "\n",
    "plot_decision_boundary(svm_classifier, X_train, y_train)        \n",
    "        \n",
    "for k, (i,j) in enumerate(X_train):\n",
    "    plt.scatter(i, j, c=colors[k])\n",
    "    plt.text(i+0.02, j+0.02, label[k])\n",
    "    "
   ]
  },
  {
   "cell_type": "code",
   "execution_count": null,
   "metadata": {},
   "outputs": [],
   "source": []
  }
 ],
 "metadata": {
  "kernelspec": {
   "display_name": "Python 3",
   "language": "python",
   "name": "python3"
  },
  "language_info": {
   "codemirror_mode": {
    "name": "ipython",
    "version": 3
   },
   "file_extension": ".py",
   "mimetype": "text/x-python",
   "name": "python",
   "nbconvert_exporter": "python",
   "pygments_lexer": "ipython3",
   "version": "3.7.6"
  }
 },
 "nbformat": 4,
 "nbformat_minor": 4
}
