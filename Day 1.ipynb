{
 "cells": [
  {
   "cell_type": "markdown",
   "metadata": {},
   "source": [
    "\n",
    "# Data Preprocessing for Machine Learning: Data Scaling\n",
    "---\n",
    "Data Scaling or Normalization: Assume we have a dataset with 2 columns. The values of one column are much larger than the values of the second column. The goal of data scaling is to scale the columns to be in the same range."
   ]
  },
  {
   "cell_type": "code",
   "execution_count": 11,
   "metadata": {},
   "outputs": [],
   "source": [
    "import numpy as np\n"
   ]
  },
  {
   "cell_type": "markdown",
   "metadata": {},
   "source": [
    "## Activity for Data Scaling: Max_Min Scaler¶"
   ]
  },
  {
   "cell_type": "code",
   "execution_count": 15,
   "metadata": {},
   "outputs": [
    {
     "name": "stdout",
     "output_type": "stream",
     "text": [
      "[[0. 0.]\n",
      " [1. 1.]]\n"
     ]
    }
   ],
   "source": [
    "# A two dimensional array (Matrix) X is given, write a function max_min_s that for each column:\n",
    "\n",
    "# Obtains the minimum value of the column (min)\n",
    "# Obtains the range of the column (range)\n",
    "# For each value in the column, calculate the following: (value-min)/range\n",
    "\n",
    "def min_max(x):\n",
    "    return ((x - x.min(axis=0)) / (x.max(axis=0) - x.min(axis=0))).round()\n",
    "\n",
    "X_train = np.array([[1000.0, 2.0], [1500.0, 3.0]])\n",
    "print(min_max(X_train))"
   ]
  },
  {
   "cell_type": "code",
   "execution_count": 17,
   "metadata": {},
   "outputs": [],
   "source": [
    "# Let's use the Sklearn preprocessing package to do the same thing as our above function:\n",
    "\n",
    "from sklearn import preprocessing\n",
    "\n",
    "min_max_scaler = preprocessing.MinMaxScaler()\n",
    "X_minmax = min_max_scaler.fit_transform(X_train)\n",
    "print(X_minmax)"
   ]
  },
  {
   "cell_type": "markdown",
   "metadata": {},
   "source": [
    "## Activity for Data Scaling: Standard Scaler\n",
    "A two dimensional array (Matrix) X is given, write a function that for each column:  "
   ]
  },
  {
   "cell_type": "code",
   "execution_count": 19,
   "metadata": {},
   "outputs": [
    {
     "name": "stdout",
     "output_type": "stream",
     "text": [
      "[[-1. -1.]\n",
      " [ 1.  1.]]\n"
     ]
    }
   ],
   "source": [
    "# Obtain the mean for the column (mean)  \n",
    "# Obtain the standard deviation for the column (std)  \n",
    "# For each value in the column, calculate the following: (value - mean)/std  \n",
    "# We will use breakout rooms in Zoom for group work!\n",
    "\n",
    "def scalar_(x):\n",
    "    return ( (x-x.mean(axis=0)) / (np.std(x, axis=0)))\n",
    "\n",
    "print(scalar_(X_train))"
   ]
  },
  {
   "cell_type": "markdown",
   "metadata": {},
   "source": [
    "## Lets use Sklearn preprecoessing package to do the same thing:¶\n"
   ]
  },
  {
   "cell_type": "code",
   "execution_count": 20,
   "metadata": {},
   "outputs": [
    {
     "name": "stdout",
     "output_type": "stream",
     "text": [
      "[[-1. -1.]\n",
      " [ 1.  1.]]\n"
     ]
    }
   ],
   "source": [
    "standard_scaler = preprocessing.StandardScaler()\n",
    "X_ss = standard_scaler.fit_transform(X_train)\n",
    "print(X_ss)"
   ]
  },
  {
   "cell_type": "code",
   "execution_count": null,
   "metadata": {},
   "outputs": [],
   "source": []
  }
 ],
 "metadata": {
  "kernelspec": {
   "display_name": "Python 3",
   "language": "python",
   "name": "python3"
  },
  "language_info": {
   "codemirror_mode": {
    "name": "ipython",
    "version": 3
   },
   "file_extension": ".py",
   "mimetype": "text/x-python",
   "name": "python",
   "nbconvert_exporter": "python",
   "pygments_lexer": "ipython3",
   "version": "3.7.6"
  }
 },
 "nbformat": 4,
 "nbformat_minor": 4
}
